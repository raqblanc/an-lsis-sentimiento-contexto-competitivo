{
 "cells": [
  {
   "cell_type": "code",
   "execution_count": null,
   "metadata": {},
   "outputs": [],
   "source": [
    "from sklearn.ensemble import RandomForestClassifier\n",
    "from sklearn.model_selection import train_test_split\n",
    "from sklearn.metrics import make_scorer,f1_score, accuracy_score, recall_score,cohen_kappa_score\n",
    "from sklearn.metrics import classification_report\n",
    "from sklearn.metrics import confusion_matrix\n",
    "import warnings\n",
    "import Kappas\n",
    "from IPython.core.display import HTML\n",
    "import pandas as pd\n",
    "import os\n",
    "import numpy as np\n",
    "from tabulate import tabulate\n",
    "\n",
    "warnings.simplefilter(action='ignore', category=FutureWarning)\n",
    "warnings.filterwarnings(\"ignore\", category=DeprecationWarning)\n",
    "\n",
    "# Palabras a ignorar (no incluir) en la trasformación de texto a vector de palabras\n",
    "stopwords = ['@joebiden', '@americanair', '@jetblue','@hillaryclinton','@realdonaldtrump','rt','i', 'me', 'my', 'myself', 'we', 'our', 'ours', 'ourselves', 'you', \"you're\", \"you've\", \"you'll\", \"you'd\", 'your', 'yours', 'yourself', 'yourselves', 'he', 'him', 'his', 'himself', 'she', \"she's\", 'her', 'hers', 'herself', 'it', \"it's\", 'its', 'itself', 'they', 'them', 'their', 'theirs', 'themselves', 'what', 'which', 'who', 'whom', 'this', 'that', \"that'll\", 'these', 'those', 'am', 'is', 'are', 'was', 'were', 'be', 'been', 'being', 'have', 'has', 'had', 'having', 'do', 'does', 'did', 'doing', 'a', 'an', 'the', 'and', 'but', 'if', 'or', 'because', 'as', 'until', 'while', 'of', 'at', 'by', 'for', 'with', 'about', 'against', 'between', 'into', 'through', 'during', 'before', 'after', 'above', 'below', 'to', 'from', 'up', 'down', 'in', 'out', 'on', 'off', 'over', 'under', 'again', 'further', 'then', 'once', 'here', 'there', 'when', 'where', 'why', 'how', 'all', 'any', 'both', 'each', 'few', 'more', 'most', 'other', 'some', 'such', 'no', 'nor', 'not', 'only', 'own', 'same', 'so', 'than', 'too', 'very', 's', 't', 'can', 'will', 'just', 'don', \"don't\", 'should', \"should've\", 'now', 'd', 'll', 'm', 'o', 're', 've', 'y', 'ain', 'aren', \"aren't\", 'couldn', \"couldn't\", 'didn', \"didn't\", 'doesn', \"doesn't\", 'hadn', \"hadn't\", 'hasn', \"hasn't\", 'haven', \"haven't\", 'isn', \"isn't\", 'ma', 'mightn', \"mightn't\", 'mustn', \"mustn't\", 'needn', \"needn't\", 'shan', \"shan't\", 'shouldn', \"shouldn't\", 'wasn', \"wasn't\", 'weren', \"weren't\", 'won', \"won't\", 'wouldn', \"wouldn't\"]\n",
    "\n",
    "# Conjuntos de datos con contexto competitivo y sus rutas\n",
    "conjuntos_competitivos = {\n",
    "    'trump-2020': '/data/trump-2020.csv',\n",
    "    'biden-2020': '/data/biden-2020.csv',\n",
    "    'trump-2016': '/data/trump-2016.csv'\n",
    "}\n",
    "\n",
    "# Conjuntos de datos con contexto no competitivo (reseñas) y sus rutas\n",
    "conjuntos_no_competitivos =  {\n",
    "    'amazon-4000': '/data/amazon-4000.csv',\n",
    "    'aerolinea-delta': '/data/aerolinea-delta.csv',\n",
    "    'aerolinea-american': '/data/aerolinea-american.csv'\n",
    "}"
   ]
  },
  {
   "source": [
    "Dado el dataframe que contiene el conjunto de datos etiquetado (df), genera un dataframe (df_t) con cada palabra encontrada en los textos (menos stopwords) como columnas, cada texto como fila y el número de apariciones de la palabra en el texto como valor."
   ],
   "cell_type": "markdown",
   "metadata": {}
  },
  {
   "cell_type": "code",
   "execution_count": null,
   "metadata": {},
   "outputs": [],
   "source": [
    "def prepara_vector(df):\n",
    "    y_real =  df['real'].tolist()\n",
    "    palabras = set()\n",
    "    textos = []\n",
    "    raw_texto = df['texto'].tolist()\n",
    "    y = []\n",
    "    n_palabras = 0\n",
    "    # Transforma los textos en vectores de palabras (textos) y genera el conjunto de palabras totales distintas entre todos los textos (palabras)\n",
    "    for i in range(len(raw_texto)):\n",
    "        t = raw_texto[i]\n",
    "        label = y_real[i]\n",
    "        texto = []\n",
    " \n",
    "        # Separa el texto como vector de palabras (texto) y añade cada palabra al conjunto total de palabras (palabras)\n",
    "        for s in t.split(' '): # s es una palabra\n",
    "            if s not in stopwords:\n",
    "                n_palabras += 1\n",
    "                palabras.add(s)\n",
    "                texto.append(s)\n",
    "\n",
    "        # Añade a la lista de total de textos el texto como vector de palabras \n",
    "        if len(texto)>0:\n",
    "            textos.append(texto)\n",
    "            y.append(label)\n",
    "\n",
    "    print(len(palabras), ' palabras en ', n_palabras,' palabras')\n",
    "\n",
    "    # Genera los vectores de palabras (filas)\n",
    "    n_palabras = len(palabras)\n",
    "    palabras = list(palabras)\n",
    "    vectores = []\n",
    "    for texto in textos:        \n",
    "        vector = [0]*n_palabras # Genera el vector relleno con ceros\n",
    "        # Añade el número de apariciones de cada palabra del texto en el vector\n",
    "        for palabra in texto:\n",
    "            vector[palabras.index(palabra)]+=1\n",
    "        \n",
    "        vectores.append(vector)\n",
    "\n",
    "    # Se genera el dataframe final con los vectores de apariciones como filas y las palabras como columnas\n",
    "    df_t = pd.DataFrame(vectores,columns=palabras)\n",
    "\n",
    "    return df_t, y"
   ]
  },
  {
   "source": [
    "Dado el dataframe de vectores de palabras (df_t), el método, el número de intentos y el tamaño de entrenamiento\n",
    "\n",
    "Realiza el entrenamiento, hace la predicción y calcula las métricas Kappa, Kappa con pesos cuadráticos y Kappa penalizada intentos número de veces\n",
    "\n",
    "Devuelve el dataframe (df) con los valores de las métricas"
   ],
   "cell_type": "markdown",
   "metadata": {}
  },
  {
   "cell_type": "code",
   "execution_count": null,
   "metadata": {},
   "outputs": [],
   "source": [
    "\n",
    "def predecir(df_t,y,metodo,intentos,test_size=0.4):\n",
    "    resultados = []\n",
    "    for i in range(intentos):\n",
    "        X_train, X_test, y_train, y_test = train_test_split(df_t, y, test_size=test_size)\n",
    "        rf  = metodo.fit(X_train, y_train);\n",
    "        y_pred = rf.predict(X_test)\n",
    "        res = Kappas.calcula_kappas(y_test, y_pred)\n",
    "        resultados.append(res)\n",
    "    df = pd.DataFrame(resultados, columns =['kappa','qwkappa', 'pkappa'])\n",
    "    return df"
   ]
  },
  {
   "cell_type": "code",
   "execution_count": null,
   "metadata": {},
   "outputs": [],
   "source": [
    "# Carga\n",
    "path = os.path.join(os.getcwd(), conjuntos_competitivos['trump-2020'])\n",
    "df = pd.read_csv(path)\n",
    "df.dropna(inplace=True)\n",
    "\n",
    "# Generar vectores de palabras\n",
    "df_t, y = prepara_vector(df)\n",
    "\n",
    "# Modelización y predicción\n",
    "intentos = 1000\n",
    "arboles = 10\n",
    "metodo = RandomForestClassifier(n_estimators = arboles)\n",
    "df = predecir(df_t,y,metodo,intentos)\n",
    "\n",
    "# Resultados\n",
    "metricas = df.apply(func=np.mean)\n",
    "print(metricas.to_string())\n"
   ]
  }
 ],
 "metadata": {
  "kernelspec": {
   "display_name": "venv-tfm",
   "language": "python",
   "name": "venv-tfm"
  },
  "language_info": {
   "codemirror_mode": {
    "name": "ipython",
    "version": 3
   },
   "file_extension": ".py",
   "mimetype": "text/x-python",
   "name": "python",
   "nbconvert_exporter": "python",
   "pygments_lexer": "ipython3",
   "version": "3.9.1"
  }
 },
 "nbformat": 4,
 "nbformat_minor": 4
}