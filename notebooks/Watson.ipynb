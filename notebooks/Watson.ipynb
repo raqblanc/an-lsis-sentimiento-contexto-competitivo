{
 "cells": [
  {
   "cell_type": "markdown",
   "metadata": {},
   "source": [
    "# <center>Watson</center>"
   ]
  },
  {
   "cell_type": "code",
   "execution_count": null,
   "metadata": {},
   "outputs": [],
   "source": [
    "from ibm_watson import NaturalLanguageUnderstandingV1\n",
    "from ibm_watson.natural_language_understanding_v1 import Features, EntitiesOptions, KeywordsOptions\n",
    "from ibm_cloud_sdk_core.authenticators import IAMAuthenticator\n",
    "import json\n",
    "from ibm_watson import NaturalLanguageUnderstandingV1\n",
    "from ibm_cloud_sdk_core.authenticators import IAMAuthenticator\n",
    "from ibm_watson.natural_language_understanding_v1 import Features, SyntaxOptions, SyntaxOptionsTokens, SentimentOptions\n",
    "import pandas as pd\n",
    "import os\n",
    "from warnings import simplefilter\n",
    "import re\n",
    "import Kappas as kp\n",
    "\n",
    "simplefilter(action='ignore', category=FutureWarning)"
   ]
  },
  {
   "cell_type": "markdown",
   "metadata": {},
   "source": [
    "## Predicción (API Watson IBM)"
   ]
  },
  {
   "cell_type": "code",
   "execution_count": null,
   "metadata": {},
   "outputs": [],
   "source": [
    "claveAPI = '...'\n",
    "url = '...'\n",
    "\n",
    "def watson_auth(claveAPI,url):\n",
    "    authenticator = IAMAuthenticator(claveAPI)\n",
    "    service = NaturalLanguageUnderstandingV1(\n",
    "         version='2020-10-09',\n",
    "         authenticator=authenticator)\n",
    "    service.set_service_url(url)\n",
    "    return service\n"
   ]
  },
  {
   "cell_type": "code",
   "execution_count": null,
   "metadata": {},
   "outputs": [],
   "source": [
    "service = watson_auth(claveAPI,url)\n",
    "\n",
    "def sentiment_analysis(service,texto,lang,targets):\n",
    "    texto = texto.replace('@realdonaldtrump', 'realdonaldtrump')\n",
    "    texto = re.sub(r'\\S*@\\S*\\s?', '', texto)\n",
    "    texto = re.sub(r'\\S*#\\S*\\s?', '', texto)\n",
    "    texto = re.sub(r'\\S*http\\S*\\s?', '', texto)\n",
    "    return service.analyze(\n",
    "                        text=texto,\n",
    "                        language= lang,\n",
    "                        features= {\n",
    "                            \"sentiment\": {\n",
    "                                \"targets\": targets,\n",
    "                                \"document\": False\n",
    "                            }       \n",
    "                        }\n",
    "                            ).get_result()"
   ]
  },
  {
   "cell_type": "code",
   "execution_count": null,
   "metadata": {},
   "outputs": [],
   "source": [
    "def watson_analysis(data, target):\n",
    "    results = []\n",
    "    cont = 0\n",
    "    for texto in data:\n",
    "        if cont % 100 == 0:\n",
    "            print(cont)\n",
    "        cont+=1\n",
    "\n",
    "        try:\n",
    "            output = sentiment_analysis(service, texto, \"en\", [target])\n",
    "            result = output['sentiment']['targets'][0]['label']\n",
    "            #score = output['sentiment']['targets'][0]['score']\n",
    "            results.append([result, texto])\n",
    "        except Exception as e:\n",
    "            print(\"Error processing: \" + texto)\n",
    "            #results.append([999, texto])\n",
    "            print(cont)\n",
    "            print(e)\n",
    "    return results"
   ]
  },
  {
   "cell_type": "code",
   "execution_count": null,
   "metadata": {},
   "outputs": [],
   "source": [
    "target = 'realdonaldtrump'\n",
    "path = \"https://raw.githubusercontent.com/raqblanc/analsis-sentimiento-contexto-competitivo/main/data/trump-2020.csv\"\n",
    "df_real = pd.read_csv(path)\n",
    "results = watson_analysis(df_real['texto'].to_list(), target)"
   ]
  },
  {
   "cell_type": "code",
   "execution_count": null,
   "metadata": {},
   "outputs": [],
   "source": [
    "df_watson = pd.DataFrame(results, columns=['valor', 'texto'])\n",
    "df_watson.loc[df_watson.valor == 'positive', 'valor'] = 1\n",
    "df_watson.loc[df_watson.valor == 'negative', 'valor'] = -1\n",
    "df_watson.loc[df_watson.valor == 'neutral', 'valor'] = 0\n",
    "\n",
    "df = df_real.merge(df_watson,on='texto',how='right')"
   ]
  },
  {
   "cell_type": "code",
   "execution_count": null,
   "metadata": {},
   "outputs": [],
   "source": [
    "y_real = df['real'].tolist()\n",
    "y_pred = df['valor'].tolist()\n",
    "kp.calcula_kappas(y_real,y_pred)"
   ]
  }
 ],
 "metadata": {
  "kernelspec": {
   "display_name": "venv-tfm",
   "language": "python",
   "name": "venv-tfm"
  },
  "language_info": {
   "codemirror_mode": {
    "name": "ipython",
    "version": 3
   },
   "file_extension": ".py",
   "mimetype": "text/x-python",
   "name": "python",
   "nbconvert_exporter": "python",
   "pygments_lexer": "ipython3",
   "version": "3.9.1"
  }
 },
 "nbformat": 4,
 "nbformat_minor": 4
}
