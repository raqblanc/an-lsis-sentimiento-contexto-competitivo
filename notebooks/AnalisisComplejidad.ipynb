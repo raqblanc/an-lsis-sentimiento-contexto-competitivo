{
 "cells": [
  {
   "cell_type": "code",
   "execution_count": 16,
   "metadata": {},
   "outputs": [],
   "source": [
    "import textstat\n",
    "import os\n",
    "import pandas as pd\n",
    "import numpy as np"
   ]
  },
  {
   "cell_type": "code",
   "execution_count": 26,
   "metadata": {
    "tags": []
   },
   "outputs": [
    {
     "output_type": "stream",
     "name": "stdout",
     "text": [
      "8.85775\n"
     ]
    }
   ],
   "source": [
    "# Conjuntos de datos con contexto competitivo y sus rutas\n",
    "conjuntos_competitivos = {\n",
    "    'trump-2020': '..data/trump-2020.csv',\n",
    "    'biden-2020': '..data/biden-2020.csv',\n",
    "    'trump-2016': '..data/trump-2016.csv'\n",
    "}\n",
    "\n",
    "# Conjuntos de datos con contexto no competitivo (reseñas) y sus rutas\n",
    "conjuntos_no_competitivos =  {\n",
    "    'amazon-4000': '..data/amazon-4000.csv',\n",
    "    'aerolinea-delta': '..data/aerolinea-delta.csv',\n",
    "    'aerolinea-american': '..data/aerolinea-american.csv'\n",
    "}\n",
    "\n",
    "#path = os.path.join(os.getcwd(), conjuntos_competitivos['trump-2020'])\n",
    "path = 'c:\\\\Users\\\\raque\\\\Desktop\\\\analsis-sentimiento-contexto-competitivo\\\\data\\\\amazon-4000.csv'\n",
    "df = pd.read_csv(path)\n",
    "df.dropna(inplace=True)\n",
    "\n",
    "valores = []\n",
    "\n",
    "for _, fila in df.iterrows():\n",
    "    texto = fila['texto']\n",
    "    valores.append(textstat.dale_chall_readability_score(texto))\n",
    "valor = np.array(valores).mean()\n",
    "print(valor)"
   ]
  },
  {
   "cell_type": "code",
   "execution_count": null,
   "metadata": {},
   "outputs": [],
   "source": []
  }
 ],
 "metadata": {
  "kernelspec": {
   "name": "python391jvsc74a57bd0e2080974811082380f6e64935479dda01b9e3c975ca1872d919172564e0ea339",
   "display_name": "Python 3.9.1 64-bit"
  },
  "language_info": {
   "codemirror_mode": {
    "name": "ipython",
    "version": 3
   },
   "file_extension": ".py",
   "mimetype": "text/x-python",
   "name": "python",
   "nbconvert_exporter": "python",
   "pygments_lexer": "ipython3",
   "version": "3.9.1"
  }
 },
 "nbformat": 4,
 "nbformat_minor": 4
}