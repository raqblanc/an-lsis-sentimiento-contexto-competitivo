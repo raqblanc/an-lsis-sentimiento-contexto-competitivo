{
 "cells": [
  {
   "cell_type": "code",
   "execution_count": null,
   "metadata": {},
   "outputs": [],
   "source": [
    "import textstat\n",
    "import os\n",
    "import pandas as pd\n",
    "import numpy as np\n",
    "import re\n",
    "\n",
    "\n",
    "path = \"https://raw.githubusercontent.com/raqblanc/analsis-sentimiento-contexto-competitivo/main/data/trump-2020.csv\"\n"
   ]
  },
  {
   "cell_type": "markdown",
   "metadata": {},
   "source": [
    "## Complejidad con textstat"
   ]
  },
  {
   "cell_type": "code",
   "execution_count": null,
   "metadata": {
    "tags": []
   },
   "outputs": [],
   "source": [
    "def complejidad(path):\n",
    "    df = pd.read_csv(path)\n",
    "    df.dropna(inplace=True)\n",
    "    \n",
    "    valores_flesch = []\n",
    "    valores_standard = []\n",
    "    valores_dalechall = []\n",
    "\n",
    "    for _, fila in df.iterrows():\n",
    "        texto = fila['texto']\n",
    "\n",
    "    # Descomentar para eliminar # @ y http\n",
    "    #     texto = re.sub(r'\\S*#\\S*\\s?', '', texto)\n",
    "    #     texto = re.sub(r'\\S*#\\S*\\s?', '', texto)\n",
    "    #     texto = re.sub(r'\\S*http\\S*\\s?', '', texto)\n",
    "\n",
    "        valores_flesch.append(textstat.flesch_reading_ease(texto))\n",
    "        valores_standard.append(textstat.text_standard(texto, float_output=True))\n",
    "        valores_dalechall.append(textstat.dale_chall_readability_score(texto))\n",
    "\n",
    "    flesch = np.array(valores_flesch).mean()\n",
    "    standard = np.array(valores_standard).mean()\n",
    "    dalechall = np.array(valores_dalechall).mean()\n",
    "\n",
    "    print('Flesch Reading Ease', flesch)\n",
    "    print('Text Standard', standard)\n",
    "    print('Dale–Chall Readability', dalechall)"
   ]
  },
  {
   "cell_type": "markdown",
   "metadata": {},
   "source": [
    "## Contar"
   ]
  },
  {
   "cell_type": "code",
   "execution_count": null,
   "metadata": {},
   "outputs": [],
   "source": [
    "def cuenta(path):\n",
    "    df = pd.read_csv(path)\n",
    "    total = df.texto.str.count(\"https|#|@\").sum()/len(df)\n",
    "    print(path,total)\n",
    "    return total"
   ]
  }
 ],
 "metadata": {
  "kernelspec": {
   "display_name": "venv-tfm",
   "language": "python",
   "name": "venv-tfm"
  },
  "language_info": {
   "codemirror_mode": {
    "name": "ipython",
    "version": 3
   },
   "file_extension": ".py",
   "mimetype": "text/x-python",
   "name": "python",
   "nbconvert_exporter": "python",
   "pygments_lexer": "ipython3",
   "version": "3.9.1"
  }
 },
 "nbformat": 4,
 "nbformat_minor": 4
}
